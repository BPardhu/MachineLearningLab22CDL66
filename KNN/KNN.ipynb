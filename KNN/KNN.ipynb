{
 "cells": [
  {
   "cell_type": "code",
   "execution_count": null,
   "id": "9e80312a-57dd-47d8-80e5-4ddcf5544949",
   "metadata": {},
   "outputs": [],
   "source": [
    "from sklearn.datasets import load_iris \n",
    "iris=load_iris()\n",
    "\n",
    "x=iris.data \n",
    "y=iris.target \n",
    "print(x[:5],y[:5])\n",
    "\n",
    "from sklearn.model_selection import train_test_split\n",
    "xtrain,xtest,ytrain,ytest =train_test_split(x,y,test_size=0.4,random_state=1) \n",
    "print(iris.data.shape)\n",
    "print(len(xtrain))\n",
    "print(len(ytest))\n",
    "\n",
    "from sklearn.neighbors import KNeighborsClassifier \n",
    "knn=KNeighborsClassifier(n_neighbors=1) \n",
    "knn.fit(xtrain,ytrain)\n",
    "pred=knn.predict(xtest)\n",
    "\n",
    "from sklearn import metrics \n",
    "print(\"Accuracy\",metrics.accuracy_score(ytest,pred)) \n",
    "print(iris.target_names[2]) \n",
    "ytestn=[iris.target_names[i] for i in ytest] \n",
    "predn=[iris.target_names[i] for i in pred]\n",
    "\n",
    "print(\"predicted Actual\")\n",
    "for i in range(len(pred)):\n",
    "    print(i,\" \",predn[i],\" \",ytestn[i])\n"
   ]
  }
 ],
 "metadata": {
  "kernelspec": {
   "display_name": "Python 3 (ipykernel)",
   "language": "python",
   "name": "python3"
  },
  "language_info": {
   "codemirror_mode": {
    "name": "ipython",
    "version": 3
   },
   "file_extension": ".py",
   "mimetype": "text/x-python",
   "name": "python",
   "nbconvert_exporter": "python",
   "pygments_lexer": "ipython3",
   "version": "3.12.7"
  }
 },
 "nbformat": 4,
 "nbformat_minor": 5
}
