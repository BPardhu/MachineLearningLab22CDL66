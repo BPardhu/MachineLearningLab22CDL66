{
 "cells": [
  {
   "cell_type": "code",
   "execution_count": 3,
   "id": "a2c326e8-85b5-4d89-a0bd-f59f981903e8",
   "metadata": {},
   "outputs": [
    {
     "name": "stdout",
     "output_type": "stream",
     "text": [
      "\n",
      " The given training data set \n",
      "\n",
      "['Sunny', 'Warm', 'Normal', 'Strong', 'Warm', 'Same', 'Yes']\n",
      "['Sunny', 'Warm', 'High', 'Strong', 'Warm', 'Same', 'Yes']\n",
      "['Rainy', 'Cold', 'High', 'Strong', 'Warm', 'Change', 'No']\n",
      "['Sunny', 'Warm', 'High', 'Strong', 'Cool', 'Change', 'Yes']\n",
      "['Sunny', 'Warm', 'Normal', 'Strong', 'Warm', 'Same', 'No']\n",
      "['Sunny', 'Warm', 'High', 'Strong', 'Warm', 'Same', 'Yes']\n",
      "['Rainy', 'Cold', 'High', 'Strong', 'Warm', 'Change', 'No']\n",
      "['Sunny', 'Warm', 'High', 'Strong', 'Cool', 'Change', 'Yes']\n",
      "['Sunny', 'Warm', 'Normal', 'Strong', 'Warm', 'Same', 'No']\n",
      "['Sunny', 'Warm', 'High', 'Strong', 'Warm', 'Same', 'Yes']\n",
      "['Rainy', 'Cold', 'High', 'Strong', 'Warm', 'Change', 'No']\n",
      "['Sunny', 'Warm', 'High', 'Strong', 'Cool', 'Change', 'Yes']\n",
      "['Sunny', 'Warm', 'Normal', 'Strong', 'Warm', 'Same', 'No']\n",
      "['Sunny', 'Warm', 'High', 'Strong', 'Warm', 'Same', 'Yes']\n",
      "['Rainy', 'Cold', 'High', 'Strong', 'Warm', 'Change', 'No']\n",
      "['Sunny', 'Warm', 'High', 'Strong', 'Cool', 'Change', 'Yes']\n",
      "['Sunny', 'Warm', 'Normal', 'Strong', 'Warm', 'Same', 'No']\n",
      "['Sunny', 'Warm', 'High', 'Strong', 'Warm', 'Same', 'Yes']\n",
      "['Rainy', 'Cold', 'High', 'Strong', 'Warm', 'Change', 'No']\n",
      "['Sunny', 'Warm', 'High', 'Strong', 'Cool', 'Change', 'No']\n",
      "The initial values of hypothesis \n",
      "['0', '0', '0', '0', '0', '0']\n",
      "For training instance no: 0  the hypothesis is  ['Sunny', 'Warm', 'Normal', 'Strong', 'Warm', 'Same']\n",
      "For training instance no: 1  the hypothesis is  ['Sunny', 'Warm', '?', 'Strong', 'Warm', 'Same']\n",
      "For training instance no: 2  the hypothesis is  ['Sunny', 'Warm', '?', 'Strong', 'Warm', 'Same']\n",
      "For training instance no: 3  the hypothesis is  ['Sunny', 'Warm', '?', 'Strong', '?', '?']\n",
      "For training instance no: 4  the hypothesis is  ['Sunny', 'Warm', '?', 'Strong', '?', '?']\n",
      "For training instance no: 5  the hypothesis is  ['Sunny', 'Warm', '?', 'Strong', '?', '?']\n",
      "For training instance no: 6  the hypothesis is  ['Sunny', 'Warm', '?', 'Strong', '?', '?']\n",
      "For training instance no: 7  the hypothesis is  ['Sunny', 'Warm', '?', 'Strong', '?', '?']\n",
      "For training instance no: 8  the hypothesis is  ['Sunny', 'Warm', '?', 'Strong', '?', '?']\n",
      "For training instance no: 9  the hypothesis is  ['Sunny', 'Warm', '?', 'Strong', '?', '?']\n",
      "For training instance no: 10  the hypothesis is  ['Sunny', 'Warm', '?', 'Strong', '?', '?']\n",
      "For training instance no: 11  the hypothesis is  ['Sunny', 'Warm', '?', 'Strong', '?', '?']\n",
      "For training instance no: 12  the hypothesis is  ['Sunny', 'Warm', '?', 'Strong', '?', '?']\n",
      "For training instance no: 13  the hypothesis is  ['Sunny', 'Warm', '?', 'Strong', '?', '?']\n",
      "For training instance no: 14  the hypothesis is  ['Sunny', 'Warm', '?', 'Strong', '?', '?']\n",
      "For training instance no: 15  the hypothesis is  ['Sunny', 'Warm', '?', 'Strong', '?', '?']\n",
      "For training instance no: 16  the hypothesis is  ['Sunny', 'Warm', '?', 'Strong', '?', '?']\n",
      "For training instance no: 17  the hypothesis is  ['Sunny', 'Warm', '?', 'Strong', '?', '?']\n",
      "For training instance no: 18  the hypothesis is  ['Sunny', 'Warm', '?', 'Strong', '?', '?']\n",
      "For training instance no: 19  the hypothesis is  ['Sunny', 'Warm', '?', 'Strong', '?', '?']\n",
      "The maximally specific hypothesis is  ['Sunny', 'Warm', '?', 'Strong', '?', '?']\n"
     ]
    }
   ],
   "source": [
    "import csv\n",
    "num_attributes=6 \n",
    "a=[]\n",
    "print(\"\\n The given training data set \\n\") \n",
    "csvfile=open('2.csv','r') \n",
    "reader=csv.reader(csvfile)\n",
    "for row in reader: \n",
    "    a.append(row) \n",
    "    print(row)\n",
    "print(\"The initial values of hypothesis \") \n",
    "hypothesis=['0']*num_attributes \n",
    "print(hypothesis)\n",
    "\n",
    "for j in range(0,num_attributes): \n",
    "    hypothesis[j]=a[0][j]\n",
    "\n",
    "for i in range(0,len(a)): \n",
    "    if(a[i][num_attributes]=='Yes'):\n",
    "        for j in range(0,num_attributes): \n",
    "            if(a[i][j]==hypothesis[j]):\n",
    "                hypothesis[j]=a[i][j] \n",
    "            else:\n",
    "                hypothesis[j]='?'\n",
    "    print(\"For training instance no:\",i,\" the hypothesis is \",hypothesis) \n",
    "print(\"The maximally specific hypothesis is \",hypothesis)\n"
   ]
  },
  {
   "cell_type": "code",
   "execution_count": null,
   "id": "594ec547-cacc-4826-82bf-642eeb65b0d5",
   "metadata": {},
   "outputs": [],
   "source": []
  }
 ],
 "metadata": {
  "kernelspec": {
   "display_name": "Python 3 (ipykernel)",
   "language": "python",
   "name": "python3"
  },
  "language_info": {
   "codemirror_mode": {
    "name": "ipython",
    "version": 3
   },
   "file_extension": ".py",
   "mimetype": "text/x-python",
   "name": "python",
   "nbconvert_exporter": "python",
   "pygments_lexer": "ipython3",
   "version": "3.12.7"
  }
 },
 "nbformat": 4,
 "nbformat_minor": 5
}
